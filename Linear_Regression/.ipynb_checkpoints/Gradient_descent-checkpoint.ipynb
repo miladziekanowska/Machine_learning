{
 "cells": [
  {
   "cell_type": "markdown",
   "id": "ab4ea464",
   "metadata": {},
   "source": [
    "# Gradient descent \n",
    "Gradient descent is one of methods of machine learning, when it comes to regression methods.\n",
    "\n",
    "In this method we are taking a point and from that point go towards local minimum of the function. \n",
    "\n"
   ]
  },
  {
   "cell_type": "markdown",
   "id": "b9fe3235",
   "metadata": {},
   "source": [
    "Souces for theory:\n",
    "[link](https://www.ibm.com/topics/gradient-descent)\n",
    "[link](https://www.youtube.com/watch?v=sDv4f4s2SB8)\n",
    "[link](https://towardsdatascience.com/gradient-descent-algorithm-a-deep-dive-cf04e8115f21)\n",
    "\n",
    "PL  \n",
    "[link](https://www.wikiwand.com/pl/Metoda_gradientu_prostego)\n",
    "[link](https://datascience.eu/pl/uczenie-maszynowe/zejscie-nachylone/)"
   ]
  },
  {
   "cell_type": "markdown",
   "id": "0de38002",
   "metadata": {},
   "source": []
  },
  {
   "cell_type": "code",
   "execution_count": 2,
   "id": "61a23383",
   "metadata": {},
   "outputs": [],
   "source": [
    "# imports\n",
    "import numpy as np\n",
    "import pandas as pd\n",
    "from pandas.core.computation.pytables import Constant\n",
    "import matplotlib.pyplot as plt\n",
    "from sklearn.linear_model import LinearRegression"
   ]
  },
  {
   "cell_type": "code",
   "execution_count": 3,
   "id": "021ac2c3",
   "metadata": {},
   "outputs": [
    {
     "data": {
      "text/html": [
       "<div>\n",
       "<style scoped>\n",
       "    .dataframe tbody tr th:only-of-type {\n",
       "        vertical-align: middle;\n",
       "    }\n",
       "\n",
       "    .dataframe tbody tr th {\n",
       "        vertical-align: top;\n",
       "    }\n",
       "\n",
       "    .dataframe thead th {\n",
       "        text-align: right;\n",
       "    }\n",
       "</style>\n",
       "<table border=\"1\" class=\"dataframe\">\n",
       "  <thead>\n",
       "    <tr style=\"text-align: right;\">\n",
       "      <th></th>\n",
       "      <th>Size</th>\n",
       "      <th>Bedrooms</th>\n",
       "      <th>Price</th>\n",
       "    </tr>\n",
       "  </thead>\n",
       "  <tbody>\n",
       "    <tr>\n",
       "      <th>0</th>\n",
       "      <td>1600</td>\n",
       "      <td>3</td>\n",
       "      <td>329900</td>\n",
       "    </tr>\n",
       "    <tr>\n",
       "      <th>1</th>\n",
       "      <td>2400</td>\n",
       "      <td>3</td>\n",
       "      <td>369000</td>\n",
       "    </tr>\n",
       "    <tr>\n",
       "      <th>2</th>\n",
       "      <td>1416</td>\n",
       "      <td>2</td>\n",
       "      <td>232000</td>\n",
       "    </tr>\n",
       "    <tr>\n",
       "      <th>3</th>\n",
       "      <td>3000</td>\n",
       "      <td>4</td>\n",
       "      <td>539900</td>\n",
       "    </tr>\n",
       "    <tr>\n",
       "      <th>4</th>\n",
       "      <td>1985</td>\n",
       "      <td>4</td>\n",
       "      <td>299900</td>\n",
       "    </tr>\n",
       "  </tbody>\n",
       "</table>\n",
       "</div>"
      ],
      "text/plain": [
       "   Size  Bedrooms   Price\n",
       "0  1600         3  329900\n",
       "1  2400         3  369000\n",
       "2  1416         2  232000\n",
       "3  3000         4  539900\n",
       "4  1985         4  299900"
      ]
     },
     "execution_count": 3,
     "metadata": {},
     "output_type": "execute_result"
    }
   ],
   "source": [
    "# load data\n",
    "url = 'https://raw.githubusercontent.com/girishkuniyal/Predict-housing-prices-in-Portland/master/ex1data2.txt'\n",
    "df = pd.read_csv(url)\n",
    "df.columns = ['Size','Bedrooms','Price']\n",
    "df.head()"
   ]
  },
  {
   "cell_type": "code",
   "execution_count": 7,
   "id": "34408c51",
   "metadata": {},
   "outputs": [],
   "source": [
    "# let's assign the independent and dependent values \n",
    "X = df['Size'].values\n",
    "y = df['Price'].values"
   ]
  },
  {
   "cell_type": "code",
   "execution_count": 8,
   "id": "c4e227f5",
   "metadata": {},
   "outputs": [],
   "source": [
    "# we need to add a column filled with ones for the gradient descent - it's a technical thing\n",
    "\n",
    "X = np.column_stack(([1]*len(X),X))"
   ]
  },
  {
   "cell_type": "code",
   "execution_count": 12,
   "id": "93288714",
   "metadata": {},
   "outputs": [],
   "source": [
    "from pandas.core.computation.pytables import Constant\n",
    "def gradientDescent(X, y, theta, alpha, m, numIterations):\n",
    "    '''\n",
    "    param: X - independent variables\n",
    "    param: y - dependent variable\n",
    "    param: theta - matrix [Theta_0, which represents the intercept/constant term, Theta_1, which represents the coefficient for X1]\n",
    "    param: alpha - learning rate - determines the size of steps to take\n",
    "    param: m - number of observations\n",
    "    param: numIterations - number of iterations for the model, i.e., how many steps to take\n",
    "    '''\n",
    "    xTrans = X.transpose()                         # required for gradient calculations (technicality)\n",
    "    cost_array = np.empty([numIterations, 2])       # matrix to store the cost function value after each iteration\n",
    "    for i in range(0, numIterations):               # loop\n",
    "        hypothesis = np.dot(X, theta)               # take each X, multiply by theta_1, and add theta_0 - predicts house price\n",
    "        loss = hypothesis - y                       # distance of points from the line, in other words, residuals/differences\n",
    "        cost = np.sum(loss**2) / (2*m)              # cost function value\n",
    "        print('Iteration %d | Cost %f' % (i, cost))\n",
    "        cost_array[i][0] = i\n",
    "        cost_array[i][1] = cost\n",
    "        gradient = np.dot(xTrans, loss) / m         # partial derivative of the function\n",
    "        theta = theta - alpha * gradient\n",
    "    return theta, cost_array"
   ]
  },
  {
   "cell_type": "code",
   "execution_count": 13,
   "id": "eb76e678",
   "metadata": {},
   "outputs": [
    {
     "name": "stdout",
     "output_type": "stream",
     "text": [
      "Help on function gradientDescent in module __main__:\n",
      "\n",
      "gradientDescent(X, y, theta, alpha, m, numIterations)\n",
      "    param: X - independent variables\n",
      "    param: y - dependent variable\n",
      "    param: theta - matrix [Theta_0, which represents the intercept/constant term, Theta_1, which represents the coefficient for X1]\n",
      "    param: alpha - learning rate - determines the size of steps to take\n",
      "    param: m - number of observations\n",
      "    param: numIterations - number of iterations for the model, i.e., how many steps to take\n",
      "\n"
     ]
    }
   ],
   "source": [
    "help(gradientDescent)"
   ]
  },
  {
   "cell_type": "code",
   "execution_count": 14,
   "id": "6fcd585f",
   "metadata": {
    "scrolled": true
   },
   "outputs": [
    {
     "name": "stdout",
     "output_type": "stream",
     "text": [
      "Iteration 0 | Cost 5929733065.293478\n",
      "Iteration 1 | Cost 4457550345.836457\n",
      "Iteration 2 | Cost 3587531331.424787\n",
      "Iteration 3 | Cost 3073374307.111955\n",
      "Iteration 4 | Cost 2769521814.500473\n",
      "Iteration 5 | Cost 2589953446.871929\n",
      "Iteration 6 | Cost 2483833537.998952\n",
      "Iteration 7 | Cost 2421119624.013162\n",
      "Iteration 8 | Cost 2384057444.918321\n",
      "Iteration 9 | Cost 2362154727.198016\n",
      "Iteration 10 | Cost 2349210829.227834\n",
      "Iteration 11 | Cost 2341561344.385683\n",
      "Iteration 12 | Cost 2337040710.346662\n",
      "Iteration 13 | Cost 2334369140.049269\n",
      "Iteration 14 | Cost 2332790314.959538\n",
      "Iteration 15 | Cost 2331857271.873953\n",
      "Iteration 16 | Cost 2331305867.979240\n",
      "Iteration 17 | Cost 2330980002.224449\n",
      "Iteration 18 | Cost 2330787423.233110\n",
      "Iteration 19 | Cost 2330673613.009302\n",
      "Iteration 20 | Cost 2330606352.934788\n",
      "Iteration 21 | Cost 2330566602.702913\n",
      "Iteration 22 | Cost 2330543110.022374\n",
      "Iteration 23 | Cost 2330529225.102191\n",
      "Iteration 24 | Cost 2330521018.100972\n",
      "Iteration 25 | Cost 2330516166.591833\n",
      "Iteration 26 | Cost 2330513298.085121\n",
      "Iteration 27 | Cost 2330511601.477652\n",
      "Iteration 28 | Cost 2330510597.430019\n",
      "Iteration 29 | Cost 2330510002.665975\n",
      "Iteration 30 | Cost 2330509649.777138\n",
      "Iteration 31 | Cost 2330509439.829818\n",
      "Iteration 32 | Cost 2330509314.356958\n",
      "Iteration 33 | Cost 2330509238.806150\n",
      "Iteration 34 | Cost 2330509192.757886\n",
      "Iteration 35 | Cost 2330509164.144805\n",
      "Iteration 36 | Cost 2330509145.835433\n",
      "Iteration 37 | Cost 2330509133.615264\n",
      "Iteration 38 | Cost 2330509124.993646\n",
      "Iteration 39 | Cost 2330509118.498670\n",
      "Iteration 40 | Cost 2330509113.260481\n",
      "Iteration 41 | Cost 2330509108.765018\n",
      "Iteration 42 | Cost 2330509104.708486\n",
      "Iteration 43 | Cost 2330509100.911350\n",
      "Iteration 44 | Cost 2330509097.267510\n",
      "Iteration 45 | Cost 2330509093.714263\n",
      "Iteration 46 | Cost 2330509090.214554\n",
      "Iteration 47 | Cost 2330509086.746485\n",
      "Iteration 48 | Cost 2330509083.297114\n",
      "Iteration 49 | Cost 2330509079.858793\n",
      "Iteration 50 | Cost 2330509076.427002\n",
      "Iteration 51 | Cost 2330509072.999071\n",
      "Iteration 52 | Cost 2330509069.573421\n",
      "Iteration 53 | Cost 2330509066.149118\n",
      "Iteration 54 | Cost 2330509062.725612\n",
      "Iteration 55 | Cost 2330509059.302577\n",
      "Iteration 56 | Cost 2330509055.879820\n",
      "Iteration 57 | Cost 2330509052.457227\n",
      "Iteration 58 | Cost 2330509049.034732\n",
      "Iteration 59 | Cost 2330509045.612294\n",
      "Iteration 60 | Cost 2330509042.189889\n",
      "Iteration 61 | Cost 2330509038.767506\n",
      "Iteration 62 | Cost 2330509035.345134\n",
      "Iteration 63 | Cost 2330509031.922769\n",
      "Iteration 64 | Cost 2330509028.500408\n",
      "Iteration 65 | Cost 2330509025.078050\n",
      "Iteration 66 | Cost 2330509021.655693\n",
      "Iteration 67 | Cost 2330509018.233337\n",
      "Iteration 68 | Cost 2330509014.810982\n",
      "Iteration 69 | Cost 2330509011.388627\n",
      "Iteration 70 | Cost 2330509007.966272\n",
      "Iteration 71 | Cost 2330509004.543918\n",
      "Iteration 72 | Cost 2330509001.121562\n",
      "Iteration 73 | Cost 2330508997.699209\n",
      "Iteration 74 | Cost 2330508994.276854\n",
      "Iteration 75 | Cost 2330508990.854500\n",
      "Iteration 76 | Cost 2330508987.432146\n",
      "Iteration 77 | Cost 2330508984.009791\n",
      "Iteration 78 | Cost 2330508980.587438\n",
      "Iteration 79 | Cost 2330508977.165083\n",
      "Iteration 80 | Cost 2330508973.742729\n",
      "Iteration 81 | Cost 2330508970.320375\n",
      "Iteration 82 | Cost 2330508966.898021\n",
      "Iteration 83 | Cost 2330508963.475667\n",
      "Iteration 84 | Cost 2330508960.053314\n",
      "Iteration 85 | Cost 2330508956.630960\n",
      "Iteration 86 | Cost 2330508953.208606\n",
      "Iteration 87 | Cost 2330508949.786252\n",
      "Iteration 88 | Cost 2330508946.363899\n",
      "Iteration 89 | Cost 2330508942.941545\n",
      "Iteration 90 | Cost 2330508939.519191\n",
      "Iteration 91 | Cost 2330508936.096838\n",
      "Iteration 92 | Cost 2330508932.674485\n",
      "Iteration 93 | Cost 2330508929.252131\n",
      "Iteration 94 | Cost 2330508925.829778\n",
      "Iteration 95 | Cost 2330508922.407424\n",
      "Iteration 96 | Cost 2330508918.985071\n",
      "Iteration 97 | Cost 2330508915.562718\n",
      "Iteration 98 | Cost 2330508912.140365\n",
      "Iteration 99 | Cost 2330508908.718011\n"
     ]
    }
   ],
   "source": [
    "m = len(X)\n",
    "numIterations = 100\n",
    "alpha = 0.00000005\n",
    "theta = [10000,200] #theta0, theta1\n",
    "theta,cost_array = gradientDescent(X,y,theta,alpha,m,numIterations)"
   ]
  },
  {
   "cell_type": "code",
   "execution_count": 15,
   "id": "ee5ad5cc",
   "metadata": {},
   "outputs": [
    {
     "data": {
      "image/png": "[encoded data removed]",
      "text/plain": [
       "<Figure size 640x480 with 1 Axes>"
      ]
     },
     "metadata": {},
     "output_type": "display_data"
    }
   ],
   "source": [
    "epoch = range(len(cost_array[:,0]))\n",
    "plt.plot(epoch, cost_array[:,1], 'o')\n",
    "plt.xlabel('Iteration')\n",
    "plt.ylabel('Loss')\n",
    "plt.show()"
   ]
  },
  {
   "cell_type": "code",
   "execution_count": 19,
   "id": "11def68f",
   "metadata": {},
   "outputs": [
    {
     "data": {
      "image/png": "[encoded data removed]",
      "text/plain": [
       "<Figure size 640x480 with 1 Axes>"
      ]
     },
     "metadata": {},
     "output_type": "display_data"
    }
   ],
   "source": [
    "plt.plot(df['Size'], df['Price'], '*')\n",
    "plt.plot(df['Size'], theta[0] + df[\"Size\"] * theta[1],'r')\n",
    "plt.show()"
   ]
  },
  {
   "cell_type": "code",
   "execution_count": 17,
   "id": "7c84c543",
   "metadata": {},
   "outputs": [],
   "source": [
    "#na podstawie wytrenowanych wspolczynnikow theta stworz funkcję\n",
    "#zdolna do predykcji ilosci wypozyczonych rowerow w zaleznosci od temperatury \n",
    "def predict_price(x, theta_0, theta_1):\n",
    "  result = theta_0 + theta_1 * x\n",
    "  return result"
   ]
  },
  {
   "cell_type": "code",
   "execution_count": 18,
   "id": "215f9577",
   "metadata": {},
   "outputs": [
    {
     "data": {
      "text/plain": [
       "10128.463301021924"
      ]
     },
     "execution_count": 18,
     "metadata": {},
     "output_type": "execute_result"
    }
   ],
   "source": [
    "#stworz predykcję ilości wypożyczonych rowerów na dzień, w którym unormalizowana temperatura wynosila 0.8\n",
    "predict_price(x=0.8, theta_0=theta[0], theta_1=theta[1])"
   ]
  },
  {
   "cell_type": "code",
   "execution_count": null,
   "id": "575489c0",
   "metadata": {},
   "outputs": [],
   "source": [
    "epoch = range(len(cost_array[:,0]))\n",
    "plt.plot(epoch, cost_array[:,1], 'o')\n",
    "plt.xlabel('Iteration')\n",
    "plt.ylabel('Loss')\n",
    "plt.show()"
   ]
  },
  {
   "cell_type": "code",
   "execution_count": null,
   "id": "01598694",
   "metadata": {},
   "outputs": [],
   "source": [
    "plt.plot(df['Size'],df['Price'],'o')\n",
    "plt.plot(df['Size'],theta[0] + df[\"Size\"] * theta[1],'r')\n",
    "plt.show()"
   ]
  },
  {
   "cell_type": "code",
   "execution_count": null,
   "id": "43f6d599",
   "metadata": {},
   "outputs": [],
   "source": []
  }
 ],
 "metadata": {
  "kernelspec": {
   "display_name": "Python 3 (ipykernel)",
   "language": "python",
   "name": "python3"
  },
  "language_info": {
   "codemirror_mode": {
    "name": "ipython",
    "version": 3
   },
   "file_extension": ".py",
   "mimetype": "text/x-python",
   "name": "python",
   "nbconvert_exporter": "python",
   "pygments_lexer": "ipython3",
   "version": "3.10.9"
  },
  "varInspector": {
   "cols": {
    "lenName": 16,
    "lenType": 16,
    "lenVar": 40
   },
   "kernels_config": {
    "python": {
     "delete_cmd_postfix": "",
     "delete_cmd_prefix": "del ",
     "library": "var_list.py",
     "varRefreshCmd": "print(var_dic_list())"
    },
    "r": {
     "delete_cmd_postfix": ") ",
     "delete_cmd_prefix": "rm(",
     "library": "var_list.r",
     "varRefreshCmd": "cat(var_dic_list()) "
    }
   },
   "types_to_exclude": [
    "module",
    "function",
    "builtin_function_or_method",
    "instance",
    "_Feature"
   ],
   "window_display": false
  }
 },
 "nbformat": 4,
 "nbformat_minor": 5
}

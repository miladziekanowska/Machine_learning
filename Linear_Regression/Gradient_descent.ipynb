{
 "cells": [
  {
   "cell_type": "markdown",
   "id": "ab4ea464",
   "metadata": {},
   "source": [
    "# Gradient descent \n",
    "Gradient descent is one of methods of machine learning, when it comes to regression methods.\n",
    "\n",
    "In this method we are taking a point and from that point go towards local minimum of the function. \n",
    "\n"
   ]
  },
  {
   "cell_type": "markdown",
   "id": "b9fe3235",
   "metadata": {},
   "source": []
  },
  {
   "cell_type": "markdown",
   "id": "0de38002",
   "metadata": {},
   "source": []
  },
  {
   "cell_type": "code",
   "execution_count": 1,
   "id": "61a23383",
   "metadata": {},
   "outputs": [],
   "source": [
    "# imports\n",
    "import numpy as np\n",
    "import pandas as pd\n",
    "from pandas.core.computation.pytables import Constant\n",
    "import matplotlib.pyplot as plt\n",
    "from sklearn.linear_model import LinearRegression"
   ]
  },
  {
   "cell_type": "code",
   "execution_count": null,
   "id": "021ac2c3",
   "metadata": {},
   "outputs": [],
   "source": [
    "url='https://raw.githubusercontent.com/girishkuniyal/Predict-housing-prices-in-Portland/master/ex1data2.txt'\n",
    "df=pd.read_csv(url)"
   ]
  },
  {
   "cell_type": "code",
   "execution_count": null,
   "id": "34408c51",
   "metadata": {},
   "outputs": [],
   "source": [
    "#gradient\n",
    "\n",
    "#przyporządkowanie zmiennej zależnej i niezależnej\n",
    "X=df['Size'].values\n",
    "y=df['Price'].values\n",
    "\n",
    "X=np.column_stack(([1]*len(X),X)) # dodanie kolumny z jedynkami - technikalia"
   ]
  },
  {
   "cell_type": "code",
   "execution_count": null,
   "id": "93288714",
   "metadata": {},
   "outputs": [],
   "source": [
    "from pandas.core.computation.pytables import Constant\n",
    "def gradientDescent(X,y,theta,alpha,m,numIterations):\n",
    "  '''\n",
    "  param: X - zmienne niezalezne\n",
    "  param: y - zmienna zalezna\n",
    "  param: theta - macierz [Theta_0 czyli punkt przeciecia/wyraz wolny, Theta_1 czyli wspolczynnik od X1]\n",
    "  param: alpha - wspolczynnik uczenia - jak duze kroki zrobic\n",
    "  param: m - liczba obserwacji\n",
    "  param: numIterations - liczba iteracji naszego modelu, czyli ile krokow zrobic\n",
    "  '''\n",
    "  xTrans=X.transpose()                        # potrzebne do obliczenia gradientow (technikalia)\n",
    "  cost_array=np.empty([numIterations,2])      # macierz, do ktorej bede zapisywac wartosc funkcji kosztu po kazdej iteracji\n",
    "  for i in range(0,numIterations):            #petla\n",
    "    hypothesis=np.dot(X,theta)                #bierzemy kazdy x, mnozymy przez theta_1 i dodajemy theta_0 - przewiduje cene domu\n",
    "    loss=hypothesis-y                         #odleglosc kropek od linii, innymi slowy reszty/roznice\n",
    "    cost=np.sum(loss**2)/(2*m)                #wartosc funkcji kosztu\n",
    "    print('Iteration %d | Cost %f' %(i,cost))\n",
    "    cost_array[i][0]=i                  \n",
    "    cost_array[i][1]=cost\n",
    "    gradient=np.dot(xTrans,loss)/m            #pochodna cząstkowa funkcji\n",
    "    theta=theta-alpha*gradient\n",
    "  return theta,cost_array"
   ]
  },
  {
   "cell_type": "code",
   "execution_count": null,
   "id": "6fcd585f",
   "metadata": {},
   "outputs": [],
   "source": [
    "m=len(X)\n",
    "numIterations=100\n",
    "alpha=0.00000005\n",
    "theta=[10000,200] #theta0, theta1\n",
    "theta,cost_array=gradientDescent(X,y,theta,alpha,m,numIterations)"
   ]
  },
  {
   "cell_type": "code",
   "execution_count": null,
   "id": "ee5ad5cc",
   "metadata": {},
   "outputs": [],
   "source": [
    "epoch=range(len(cost_array[:,0]))\n",
    "plt.plot(epoch,cost_array[:,1],'o')\n",
    "plt.xlabel('Iteration')\n",
    "plt.ylabel('Loss')\n",
    "plt.show()"
   ]
  },
  {
   "cell_type": "code",
   "execution_count": null,
   "id": "11def68f",
   "metadata": {},
   "outputs": [],
   "source": [
    "plt.plot(df['Size'],df['Price'],'o')\n",
    "plt.plot(df['Size'],theta[0]+df[\"Size\"]*theta[1],'r')\n",
    "plt.show()"
   ]
  },
  {
   "cell_type": "code",
   "execution_count": null,
   "id": "7c84c543",
   "metadata": {},
   "outputs": [],
   "source": [
    "#na podstawie wytrenowanych wspolczynnikow theta stworz funkcję\n",
    "#zdolna do predykcji ilosci wypozyczonych rowerow w zaleznosci od temperatury \n",
    "def predict_price(x,theta_0,theta_1):\n",
    "  result=theta_0+theta_1*x\n",
    "  return result"
   ]
  },
  {
   "cell_type": "code",
   "execution_count": null,
   "id": "215f9577",
   "metadata": {},
   "outputs": [],
   "source": [
    "#stworz predykcję ilości wypożyczonych rowerów na dzień, w którym unormalizowana temperatura wynosila 0.8\n",
    "predict_price(x=0.8,theta_0=theta[0],theta_1=theta[1])"
   ]
  },
  {
   "cell_type": "code",
   "execution_count": null,
   "id": "575489c0",
   "metadata": {},
   "outputs": [],
   "source": [
    "epoch=range(len(cost_array[:,0]))\n",
    "plt.plot(epoch,cost_array[:,1],'o')\n",
    "plt.xlabel('Iteration')\n",
    "plt.ylabel('Loss')\n",
    "plt.show()"
   ]
  },
  {
   "cell_type": "code",
   "execution_count": null,
   "id": "01598694",
   "metadata": {},
   "outputs": [],
   "source": [
    "plt.plot(df['Size'],df['Price'],'o')\n",
    "plt.plot(df['Size'],theta[0]+df[\"Size\"]*theta[1],'r')\n",
    "plt.show()"
   ]
  },
  {
   "cell_type": "code",
   "execution_count": null,
   "id": "43f6d599",
   "metadata": {},
   "outputs": [],
   "source": []
  }
 ],
 "metadata": {
  "kernelspec": {
   "display_name": "Python 3 (ipykernel)",
   "language": "python",
   "name": "python3"
  },
  "language_info": {
   "codemirror_mode": {
    "name": "ipython",
    "version": 3
   },
   "file_extension": ".py",
   "mimetype": "text/x-python",
   "name": "python",
   "nbconvert_exporter": "python",
   "pygments_lexer": "ipython3",
   "version": "3.10.9"
  },
  "varInspector": {
   "cols": {
    "lenName": 16,
    "lenType": 16,
    "lenVar": 40
   },
   "kernels_config": {
    "python": {
     "delete_cmd_postfix": "",
     "delete_cmd_prefix": "del ",
     "library": "var_list.py",
     "varRefreshCmd": "print(var_dic_list())"
    },
    "r": {
     "delete_cmd_postfix": ") ",
     "delete_cmd_prefix": "rm(",
     "library": "var_list.r",
     "varRefreshCmd": "cat(var_dic_list()) "
    }
   },
   "types_to_exclude": [
    "module",
    "function",
    "builtin_function_or_method",
    "instance",
    "_Feature"
   ],
   "window_display": false
  }
 },
 "nbformat": 4,
 "nbformat_minor": 5
}

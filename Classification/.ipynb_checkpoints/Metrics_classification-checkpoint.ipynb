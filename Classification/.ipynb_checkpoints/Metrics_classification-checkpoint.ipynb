{
 "cells": [
  {
   "cell_type": "code",
   "execution_count": 1,
   "id": "8178f8f9",
   "metadata": {},
   "outputs": [],
   "source": [
    "import numpy as np\n",
    "from numpy.random import RandomState\n",
    "from sklearn.metrics import f1_score, precision_score, recall_score, confusion_matrix, classification_report"
   ]
  },
  {
   "cell_type": "code",
   "execution_count": 3,
   "id": "68f1bae8",
   "metadata": {},
   "outputs": [],
   "source": [
    "# przypadkowe dane, aby nam to zadziałało\n",
    "random = RandomState(30)\n",
    "\n",
    "random_1 = random.normal(loc = 0.0, size = 100)\n",
    "random_2 = random.logistic(loc = 1, size = 100)\n",
    "y_test = [1 if i >=0 else 0 for i in random_1]\n",
    "y_pred = [1 if i >=0 else 0 for i in random_2]"
   ]
  },
  {
   "cell_type": "markdown",
   "id": "79b1cb3d",
   "metadata": {},
   "source": [
    "## Self-defined\n",
    "Macierz błędu"
   ]
  },
  {
   "cell_type": "code",
   "execution_count": 4,
   "id": "eae6a15b",
   "metadata": {},
   "outputs": [],
   "source": [
    "# tworzymy funckję definiującą wartości do macierzy błędu\n",
    "\n",
    "def confusion_matrix(truth, prediction):\n",
    "    tp, tn, fp, fn = 0, 0, 0, 0\n",
    "    \n",
    "    for label_t, label_p in zip(truth, prediction):\n",
    "        if label_t == label_p:\n",
    "            if label_p == 1:\n",
    "                tp +=1\n",
    "            else:\n",
    "                tn +=1\n",
    "        else:\n",
    "            if label_p == 1:\n",
    "                fp +=1\n",
    "            else:\n",
    "                fn +=1\n",
    "    return tp, tn, fp, fn"
   ]
  },
  {
   "cell_type": "code",
   "execution_count": 5,
   "id": "5398b307",
   "metadata": {},
   "outputs": [],
   "source": [
    "# używamy funkcje aby uzyskać dane do macierzy błędu\n",
    "tp, tn, fp, fn = confusion_matrix(y_test, y_pred)"
   ]
  },
  {
   "cell_type": "code",
   "execution_count": 6,
   "id": "4af89644",
   "metadata": {},
   "outputs": [
    {
     "name": "stdout",
     "output_type": "stream",
     "text": [
      "TP:30, TN:14\n",
      "Ile obserwacji zaklasyfikowaliśmy poprawnie: 44\n",
      "FP:43, FN:13\n",
      "Ile obserwacji zaklasyfikowaliśmy niepoprawnie: 56\n"
     ]
    }
   ],
   "source": [
    "print(f'TP:{tp}, TN:{tn}')\n",
    "print(f'Ile obserwacji zaklasyfikowaliśmy poprawnie: {tp+tn}')\n",
    "print(f'FP:{fp}, FN:{fn}')\n",
    "print(f'Ile obserwacji zaklasyfikowaliśmy niepoprawnie: {fp+fn}')"
   ]
  },
  {
   "cell_type": "markdown",
   "id": "6cb39994",
   "metadata": {},
   "source": [
    "Accuracy (dokładność)\n",
    "\n",
    "accuracy = (tp+tn) / (tp+tn+fp+fn)  \n",
    "Informuje nas o tym, jaki odsetek predykcji jest zgodny z prawdą.\n",
    "\n",
    "#### Problem\n",
    "Accuracy zachowuje się źle przy niezbalansowanych zbiorach. Wygenerujemy zbiór, w którym większość przykładów będzie negatywna.\n",
    "Zakładając z góry, że wszystkie przykłady są negatywne uzyskujemy bardzo wysoką dokładność. Takie zachowanie jest w wielu przypadkach niepożądane - przypuśćmy, że próbujemy stworzyć klasyfikator do komórek rakowych, gdzie większość przypadków jest negatywna - dla takiego podejścia, zwrócenie informacji że wszystkie przypadki są negatywne da bardzo wysoką dokładność."
   ]
  },
  {
   "cell_type": "code",
   "execution_count": 7,
   "id": "b28558f6",
   "metadata": {},
   "outputs": [],
   "source": [
    "def accuracy(truth, predicition):\n",
    "    tp, tn, fp, fn = confusion_matrix(truth, predicition)\n",
    "    print(tp, tn, fp, fn)\n",
    "    \n",
    "    return (tp+tn) / (tp+tn+fp+fn)"
   ]
  },
  {
   "cell_type": "code",
   "execution_count": 8,
   "id": "e8b96dbd",
   "metadata": {},
   "outputs": [
    {
     "name": "stdout",
     "output_type": "stream",
     "text": [
      "30 14 43 13\n",
      "Dokładność: 0.44\n"
     ]
    }
   ],
   "source": [
    "acc = accuracy(y_test, y_pred)\n",
    "\n",
    "print(f'Dokładność: {acc}')"
   ]
  },
  {
   "cell_type": "markdown",
   "id": "2b36be2c",
   "metadata": {},
   "source": [
    "Recall (czułość)   \n",
    "Informuje o odsetku poprawnie predykowanych wartości pozytywnych (jaką część wartości dodatnich wykrył klasyfikator)\n",
    "\n",
    "\n",
    "recall = tp / (tp + fn)"
   ]
  },
  {
   "cell_type": "code",
   "execution_count": 9,
   "id": "fc3bd173",
   "metadata": {},
   "outputs": [],
   "source": [
    "def recall(truth, prediction):\n",
    "    tp, tn, fp, fn = confusion_matrix(truth, prediction)\n",
    "    \n",
    "    return tp / (tp+fn)"
   ]
  },
  {
   "cell_type": "code",
   "execution_count": 10,
   "id": "d7604a30",
   "metadata": {},
   "outputs": [
    {
     "data": {
      "text/plain": [
       "0.6976744186046512"
      ]
     },
     "execution_count": 10,
     "metadata": {},
     "output_type": "execute_result"
    }
   ],
   "source": [
    "recall(y_test, y_pred)"
   ]
  },
  {
   "cell_type": "markdown",
   "id": "710a6321",
   "metadata": {},
   "source": [
    "Precision (precyzja)\n",
    "\n",
    "\n",
    "Jest to miara, która skupia się tylko na przykładach pozytywnych - mówi jaka część wyników wskazanych przez klasyfikator jako dodatnie jest rzeczywiście dodatnia.\n",
    "\n",
    "precision = tp / (tp+fp)\n"
   ]
  },
  {
   "cell_type": "code",
   "execution_count": 11,
   "id": "b312b71c",
   "metadata": {},
   "outputs": [],
   "source": [
    "def precision(truth, prediction):\n",
    "    tp, tn, fp, fn = confusion_matrix(truth, prediction)\n",
    "    \n",
    "    return tp / (tp+fp)"
   ]
  },
  {
   "cell_type": "code",
   "execution_count": 12,
   "id": "6b524d21",
   "metadata": {},
   "outputs": [
    {
     "data": {
      "text/plain": [
       "0.410958904109589"
      ]
     },
     "execution_count": 12,
     "metadata": {},
     "output_type": "execute_result"
    }
   ],
   "source": [
    "precision(y_test, y_pred)"
   ]
  },
  {
   "cell_type": "markdown",
   "id": "6c1cea8a",
   "metadata": {},
   "source": [
    "F1 Score\n",
    "\n",
    "Jest to średnia harmoniczna precyzji i czułości. Ogólnie - im wyższy F1-score tym lepszy jest klasyfikator.\n",
    "\n",
    "f_score = (2 * precision * recall)/(prec+rec)"
   ]
  },
  {
   "cell_type": "code",
   "execution_count": 13,
   "id": "38f12b37",
   "metadata": {},
   "outputs": [],
   "source": [
    "def f1_score(truth, predicted):\n",
    "    prec = precision(truth, predicted)\n",
    "    rec = recall(truth, predicted)\n",
    "    \n",
    "    return 2*prec*rec / (prec+rec)"
   ]
  },
  {
   "cell_type": "code",
   "execution_count": 14,
   "id": "e7fa9358",
   "metadata": {},
   "outputs": [
    {
     "data": {
      "text/plain": [
       "0.5172413793103448"
      ]
     },
     "execution_count": 14,
     "metadata": {},
     "output_type": "execute_result"
    }
   ],
   "source": [
    "f1_score(y_test, y_pred)"
   ]
  },
  {
   "cell_type": "markdown",
   "id": "34dcdcbf",
   "metadata": {},
   "source": [
    "## Z Sklearn\n",
    "Możemy również wykorzystać gotowe funkcje dostępne w sklearn i jednej zbiorczej"
   ]
  },
  {
   "cell_type": "code",
   "execution_count": 15,
   "id": "918b2c47",
   "metadata": {},
   "outputs": [],
   "source": [
    "from sklearn.metrics import f1_score, precision_score, recall_score, confusion_matrix, classification_report"
   ]
  },
  {
   "cell_type": "code",
   "execution_count": 16,
   "id": "92db2bb5",
   "metadata": {},
   "outputs": [
    {
     "data": {
      "text/plain": [
       "array([[14, 43],\n",
       "       [13, 30]])"
      ]
     },
     "execution_count": 16,
     "metadata": {},
     "output_type": "execute_result"
    }
   ],
   "source": [
    "recall_score(y_test, y_pred)\n",
    "precision_score(y_test, y_pred)\n",
    "f1_score(y_test, y_pred)\n",
    "confusion_matrix(y_test, y_pred)"
   ]
  },
  {
   "cell_type": "code",
   "execution_count": 17,
   "id": "15d2b561",
   "metadata": {},
   "outputs": [
    {
     "name": "stdout",
     "output_type": "stream",
     "text": [
      "              precision    recall  f1-score   support\n",
      "\n",
      "           0       0.52      0.25      0.33        57\n",
      "           1       0.41      0.70      0.52        43\n",
      "\n",
      "    accuracy                           0.44       100\n",
      "   macro avg       0.46      0.47      0.43       100\n",
      "weighted avg       0.47      0.44      0.41       100\n",
      "\n"
     ]
    }
   ],
   "source": [
    "print(classification_report(y_test, y_pred))"
   ]
  }
 ],
 "metadata": {
  "kernelspec": {
   "display_name": "Python 3 (ipykernel)",
   "language": "python",
   "name": "python3"
  },
  "language_info": {
   "codemirror_mode": {
    "name": "ipython",
    "version": 3
   },
   "file_extension": ".py",
   "mimetype": "text/x-python",
   "name": "python",
   "nbconvert_exporter": "python",
   "pygments_lexer": "ipython3",
   "version": "3.10.9"
  },
  "varInspector": {
   "cols": {
    "lenName": 16,
    "lenType": 16,
    "lenVar": 40
   },
   "kernels_config": {
    "python": {
     "delete_cmd_postfix": "",
     "delete_cmd_prefix": "del ",
     "library": "var_list.py",
     "varRefreshCmd": "print(var_dic_list())"
    },
    "r": {
     "delete_cmd_postfix": ") ",
     "delete_cmd_prefix": "rm(",
     "library": "var_list.r",
     "varRefreshCmd": "cat(var_dic_list()) "
    }
   },
   "types_to_exclude": [
    "module",
    "function",
    "builtin_function_or_method",
    "instance",
    "_Feature"
   ],
   "window_display": false
  }
 },
 "nbformat": 4,
 "nbformat_minor": 5
}

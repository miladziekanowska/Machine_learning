{
 "cells": [
  {
   "cell_type": "markdown",
   "id": "5acb3b68",
   "metadata": {},
   "source": [
    "# Creating a Great Machine Learning Model\n",
    "In this notebook we will take a walk into creating a traditional machine learning model. It differs slightly from creating one using deep learning, but some of these techniques, like pipelines can be used as well. Without further do, let's take a look into our objectives:\n",
    "1. What is Gradient Descent, the Entity of ML\n",
    "2. What are pipelines and how to use them\n",
    "3. Creating a basic machine learning model\n",
    "4. Hyperparameter tuning - dive into Grid Search, Bayesian Optimization and Optuna\n",
    "5. *Dimentional reduction*\n",
    "\n",
    "The above mentioned topics are the basics in creating and optimizing our model. In these notes I will not be covering Deep Learning and Neural Networks, since I want to create a separate repository dedicated to them, but even in these cases a lot of the knowlege from this note will apply. \n",
    "\n",
    "### Based on the optimalization technologies, we might differenciate a few types of models:\n",
    "- **Gradient Descent based models** - these use a simple gradient descent algorithm to update the model parameters iteratively by calculating the gradient of the loss function. The parameters are ajusted in the direction of steepest descent. These would be most of our traditional models, such as:\n",
    "    - Decision Trees or Random Forest;\n",
    "    - Logistic or Linear Regression;\n",
    "    - SVM, KNN;\n",
    "    - Ensemble models (AdaBoost, XGBoost, LBGM, etc.);\n",
    "- **Stochastic gradient descent models** - these are similar to the gradient descent models, however instead of using entire training set, these randomly sample individual examples to calculate the gradient. It allows for more efficient computing of large datasets. Examples for these would be:\n",
    "    - Perceptrons;\n",
    "    - Simple neural networks;\n",
    "- **Mini-Batch Gradient Descent based models** - these again, are similar to the simple gradient model, but instead of using the whole dataset, the parameters are updated using a small subset or *mini-batch* of training examples. Withi this approch it is able to create less noise than stochastic gradient decent and faster convergence than simple gradient descent. Most popular models are:\n",
    "    - Convolutional Neural Networks (CNN);\n",
    "    - Recursive Neural Networks (RvNNs);\n",
    "    - Transformet Neural Networks;\n",
    "- **Models based on the second order optimization** - these models utilize second-order optimization methods, such as Newton's method or quasi-Newton methods like the BFGS algorithm, which take into account the curvature of the loss function to determine the optimal parameter updates, potentially achieving faster convergence than first-order methods;\n",
    "- **Heuristic-based models** - these models employ heuristic optimization techniques that do not rely on explicit mathematical gradients or second-order information. They often use rules of thumb, experience-based knowledge, or domain-specific strategies to guide the optimization process, allowing for more flexibility and adaptability in certain problem domains where traditional optimization methods may not be effective or feasible.\n",
    "\n",
    "For now, I won't be focusing on the later two types, since I have very little knowledge about them. With all these models it is important to note that the more complex the models are, the borders between these types might get blurred, as the model performance is more important than sticking to one or the other method. \n",
    "\n",
    "It is also worth noticing, that the firts three types rely heavily on Gradient Descent (the last 2 not so much, sometimes even not at all). Therefore, this will be our first stop."
   ]
  },
  {
   "cell_type": "code",
   "execution_count": 1,
   "id": "2db7bdab",
   "metadata": {},
   "outputs": [
    {
     "data": {
      "text/html": [
       "<div>\n",
       "<style scoped>\n",
       "    .dataframe tbody tr th:only-of-type {\n",
       "        vertical-align: middle;\n",
       "    }\n",
       "\n",
       "    .dataframe tbody tr th {\n",
       "        vertical-align: top;\n",
       "    }\n",
       "\n",
       "    .dataframe thead th {\n",
       "        text-align: right;\n",
       "    }\n",
       "</style>\n",
       "<table border=\"1\" class=\"dataframe\">\n",
       "  <thead>\n",
       "    <tr style=\"text-align: right;\">\n",
       "      <th></th>\n",
       "      <th>carat</th>\n",
       "      <th>cut</th>\n",
       "      <th>clarity</th>\n",
       "      <th>depth</th>\n",
       "      <th>table</th>\n",
       "      <th>price</th>\n",
       "      <th>E</th>\n",
       "      <th>F</th>\n",
       "      <th>G</th>\n",
       "      <th>H</th>\n",
       "      <th>I</th>\n",
       "      <th>J</th>\n",
       "      <th>cube</th>\n",
       "    </tr>\n",
       "  </thead>\n",
       "  <tbody>\n",
       "    <tr>\n",
       "      <th>0</th>\n",
       "      <td>0.23</td>\n",
       "      <td>2</td>\n",
       "      <td>3</td>\n",
       "      <td>61.5</td>\n",
       "      <td>55.0</td>\n",
       "      <td>326</td>\n",
       "      <td>1</td>\n",
       "      <td>0</td>\n",
       "      <td>0</td>\n",
       "      <td>0</td>\n",
       "      <td>0</td>\n",
       "      <td>0</td>\n",
       "      <td>38.202030</td>\n",
       "    </tr>\n",
       "    <tr>\n",
       "      <th>1</th>\n",
       "      <td>0.21</td>\n",
       "      <td>3</td>\n",
       "      <td>2</td>\n",
       "      <td>59.8</td>\n",
       "      <td>61.0</td>\n",
       "      <td>326</td>\n",
       "      <td>1</td>\n",
       "      <td>0</td>\n",
       "      <td>0</td>\n",
       "      <td>0</td>\n",
       "      <td>0</td>\n",
       "      <td>0</td>\n",
       "      <td>34.505856</td>\n",
       "    </tr>\n",
       "    <tr>\n",
       "      <th>2</th>\n",
       "      <td>0.23</td>\n",
       "      <td>1</td>\n",
       "      <td>4</td>\n",
       "      <td>56.9</td>\n",
       "      <td>65.0</td>\n",
       "      <td>327</td>\n",
       "      <td>1</td>\n",
       "      <td>0</td>\n",
       "      <td>0</td>\n",
       "      <td>0</td>\n",
       "      <td>0</td>\n",
       "      <td>0</td>\n",
       "      <td>38.076885</td>\n",
       "    </tr>\n",
       "    <tr>\n",
       "      <th>3</th>\n",
       "      <td>0.29</td>\n",
       "      <td>3</td>\n",
       "      <td>5</td>\n",
       "      <td>62.4</td>\n",
       "      <td>58.0</td>\n",
       "      <td>334</td>\n",
       "      <td>0</td>\n",
       "      <td>0</td>\n",
       "      <td>0</td>\n",
       "      <td>0</td>\n",
       "      <td>1</td>\n",
       "      <td>0</td>\n",
       "      <td>46.724580</td>\n",
       "    </tr>\n",
       "    <tr>\n",
       "      <th>4</th>\n",
       "      <td>0.31</td>\n",
       "      <td>1</td>\n",
       "      <td>3</td>\n",
       "      <td>63.3</td>\n",
       "      <td>58.0</td>\n",
       "      <td>335</td>\n",
       "      <td>0</td>\n",
       "      <td>0</td>\n",
       "      <td>0</td>\n",
       "      <td>0</td>\n",
       "      <td>0</td>\n",
       "      <td>1</td>\n",
       "      <td>51.917250</td>\n",
       "    </tr>\n",
       "  </tbody>\n",
       "</table>\n",
       "</div>"
      ],
      "text/plain": [
       "   carat  cut  clarity  depth  table  price  E  F  G  H  I  J       cube\n",
       "0   0.23    2        3   61.5   55.0    326  1  0  0  0  0  0  38.202030\n",
       "1   0.21    3        2   59.8   61.0    326  1  0  0  0  0  0  34.505856\n",
       "2   0.23    1        4   56.9   65.0    327  1  0  0  0  0  0  38.076885\n",
       "3   0.29    3        5   62.4   58.0    334  0  0  0  0  1  0  46.724580\n",
       "4   0.31    1        3   63.3   58.0    335  0  0  0  0  0  1  51.917250"
      ]
     },
     "execution_count": 1,
     "metadata": {},
     "output_type": "execute_result"
    }
   ],
   "source": [
    "# let's import our data and libraries\n",
    "import numpy as np\n",
    "import pandas as pd\n",
    "import matplotlib.pyplot as plt\n",
    "import seaborn as sns\n",
    "\n",
    "# read our dataset for this notebook\n",
    "df = pd.read_csv('Diamonds_encoded.csv')\n",
    "df.head()"
   ]
  },
  {
   "cell_type": "markdown",
   "id": "15981241",
   "metadata": {},
   "source": [
    "## Gradient Descent\n",
    "Gradient descent is an iterative first-order optimisation algorithm used to find a local minimum or maximum of a given function. In other words, by using gradient descent we are trying to find the best weights for our model.\n",
    "\n",
    "It's purpose is to minimise the cost function (also known as loss function), which could be defined as a difference between the actuall output and predicted value. The smaller out loss function will be, the better predictions we will get from our model. \n",
    "\n",
    "To put it simply, gradient descent counts and uses the optimal derivative of loss function in relation to model parameters. Gradient descent aims to find the local minima (or minimum) in the loss function, by taking small steps toward the minimum. \n",
    "![loss function](https://miro.medium.com/max/1400/1*tQTcGTLZqnI5rp3JYO_4NA.png)\n",
    "**But how does it know does it know, where is the minimum and which way to go?**  \n",
    "The minimum is located, where the descent is equal to 0 (we could also say, where it is flat). The descent to the right of the minimum will always be positive (increasing) and to the left - negative (decreasing). If the descent (derivative) is negative - we have to increase it, and if positive - it needs to be decreased, so moved towards 0. These steps are repeated until minimum is reached or the next small step would overshoot the minimum with greater loss function.\n",
    "\n",
    "**How does gradient descent know, how big the steps need to be?**  \n",
    "For that we declare **learning rate** (α). It determines how fast we will converge to the extremes, i.e. how big steps we will take in each step. Its value cannot be too low, then the gradient method will be very slow, or too high - then we may never reach the minimum.\n",
    "![learning rate](https://duchesnay.github.io/pystatsml/_images/learning_rate_choice.png)\n",
    "\n",
    "**What loss functions are used?**  \n",
    "Depending on the issue, we would use different loss functions. For models in sklearn, most of the models have already predetermined loss functions or there are only a few to choose from.\n",
    "1. Regression:\n",
    "    - Mean Squared Error (MSE)\n",
    "    - Mean Absolute Error (MAE)\n",
    "    - Root Mean Squared Error (RMSE)\n",
    "2. Binary classification\n",
    "    - Binary Cross-Entropy (Log Loss)\n",
    "    - Hinge Loss (used with SVM)\n",
    "3. Multi-class classification\n",
    "    - Categorical Cross-Entropy (Multiclass Log Loss)\n",
    "    - Sparse Categorical Cross-Entropy\n",
    "\n",
    "Now, let's create a simple gradient descent for linear regression, as this is the easiest one 😅."
   ]
  },
  {
   "cell_type": "code",
   "execution_count": 8,
   "id": "01b4af3a",
   "metadata": {},
   "outputs": [],
   "source": [
    "# for linear regression we will be predicting the price\n",
    "y = df['price']\n",
    "X = df[['carat']]\n",
    "\n",
    "# for creating gradient descent, we need to prepare additional column\n",
    "X = np.column_stack(([1]*len(X),X))"
   ]
  },
  {
   "cell_type": "code",
   "execution_count": 9,
   "id": "f4991472",
   "metadata": {},
   "outputs": [],
   "source": [
    "from pandas.core.computation.pytables import Constant\n",
    "\n",
    "# let's create gradient descent function\n",
    "def gradientDescent(X, y, theta, alpha, m, numIterations):\n",
    "    '''\n",
    "    param: X - independent variables\n",
    "    param: y - dependent variable\n",
    "    param: theta - matrix [Theta_0, which represents the intercept/constant term, Theta_1, which represents the coefficient for X1]\n",
    "    param: alpha - learning rate - determines the size of steps to take\n",
    "    param: m - number of observations\n",
    "    param: numIterations - number of iterations for the model, i.e., how many steps to take\n",
    "    '''\n",
    "    xTrans = X.transpose()                         # required for gradient calculations (technicality)\n",
    "    cost_array = np.empty([numIterations, 2])       # matrix to store the cost function value after each iteration\n",
    "    for i in range(0, numIterations):               # loop\n",
    "        hypothesis = np.dot(X, theta)               # take each X, multiply by theta_1, and add theta_0 - predicts house price\n",
    "        loss = hypothesis - y                       # distance of points from the line, in other words, residuals/differences\n",
    "        cost = np.sum(loss**2) / (2*m)              # cost function value\n",
    "        print('Iteration %d | Cost %f' % (i, cost))\n",
    "        cost_array[i][0] = i\n",
    "        cost_array[i][1] = cost\n",
    "        gradient = np.dot(xTrans, loss) / m         # partial derivative of the function\n",
    "        theta = theta - alpha * gradient\n",
    "    return theta, cost_array"
   ]
  },
  {
   "cell_type": "code",
   "execution_count": 36,
   "id": "c82b5286",
   "metadata": {
    "collapsed": true
   },
   "outputs": [
    {
     "name": "stdout",
     "output_type": "stream",
     "text": [
      "Iteration 0 | Cost 10960425.684603\n",
      "Iteration 1 | Cost 10214779.540554\n",
      "Iteration 2 | Cost 9553137.289651\n",
      "Iteration 3 | Cost 8965657.979969\n",
      "Iteration 4 | Cost 8443657.080653\n",
      "Iteration 5 | Cost 7979470.557181\n",
      "Iteration 6 | Cost 7566334.923408\n",
      "Iteration 7 | Cost 7198281.392438\n",
      "Iteration 8 | Cost 6870042.469137\n",
      "Iteration 9 | Cost 6576969.521877\n",
      "Iteration 10 | Cost 6314960.042995\n",
      "Iteration 11 | Cost 6080393.459137\n",
      "Iteration 12 | Cost 5870074.486534\n",
      "Iteration 13 | Cost 5681183.144356\n",
      "Iteration 14 | Cost 5511230.643540\n",
      "Iteration 15 | Cost 5358020.460501\n",
      "Iteration 16 | Cost 5219613.986262\n",
      "Iteration 17 | Cost 5094300.213222\n",
      "Iteration 18 | Cost 4980568.984962\n",
      "Iteration 19 | Cost 4877087.390281\n",
      "Iteration 20 | Cost 4782678.931899\n",
      "Iteration 21 | Cost 4696305.143672\n",
      "Iteration 22 | Cost 4617049.368534\n",
      "Iteration 23 | Cost 4544102.443172\n",
      "Iteration 24 | Cost 4476750.065335\n",
      "Iteration 25 | Cost 4414361.645980\n",
      "Iteration 26 | Cost 4356380.471739\n",
      "Iteration 27 | Cost 4302315.023676\n",
      "Iteration 28 | Cost 4251731.316437\n",
      "Iteration 29 | Cost 4204246.137847\n",
      "Iteration 30 | Cost 4159521.083108\n",
      "Iteration 31 | Cost 4117257.290218\n",
      "Iteration 32 | Cost 4077190.794167\n",
      "Iteration 33 | Cost 4039088.427195\n",
      "Iteration 34 | Cost 4002744.200915\n",
      "Iteration 35 | Cost 3967976.113676\n",
      "Iteration 36 | Cost 3934623.333164\n",
      "Iteration 37 | Cost 3902543.710156\n",
      "Iteration 38 | Cost 3871611.584486\n",
      "Iteration 39 | Cost 3841715.848884\n",
      "Iteration 40 | Cost 3812758.240379\n",
      "Iteration 41 | Cost 3784651.832512\n",
      "Iteration 42 | Cost 3757319.704760\n",
      "Iteration 43 | Cost 3730693.768342\n",
      "Iteration 44 | Cost 3704713.730020\n",
      "Iteration 45 | Cost 3679326.177682\n",
      "Iteration 46 | Cost 3654483.773392\n",
      "Iteration 47 | Cost 3630144.541269\n",
      "Iteration 48 | Cost 3606271.239053\n",
      "Iteration 49 | Cost 3582830.803527\n",
      "Iteration 50 | Cost 3559793.861101\n",
      "Iteration 51 | Cost 3537134.295912\n",
      "Iteration 52 | Cost 3514828.868673\n",
      "Iteration 53 | Cost 3492856.880302\n",
      "Iteration 54 | Cost 3471199.875081\n",
      "Iteration 55 | Cost 3449841.378686\n",
      "Iteration 56 | Cost 3428766.666990\n",
      "Iteration 57 | Cost 3407962.562033\n",
      "Iteration 58 | Cost 3387417.251956\n",
      "Iteration 59 | Cost 3367120.132083\n",
      "Iteration 60 | Cost 3347061.664668\n",
      "Iteration 61 | Cost 3327233.255115\n",
      "Iteration 62 | Cost 3307627.142733\n",
      "Iteration 63 | Cost 3288236.304311\n",
      "Iteration 64 | Cost 3269054.369021\n",
      "Iteration 65 | Cost 3250075.543302\n",
      "Iteration 66 | Cost 3231294.544564\n",
      "Iteration 67 | Cost 3212706.542667\n",
      "Iteration 68 | Cost 3194307.108265\n",
      "Iteration 69 | Cost 3176092.167214\n",
      "Iteration 70 | Cost 3158057.960312\n",
      "Iteration 71 | Cost 3140201.007775\n",
      "Iteration 72 | Cost 3122518.077858\n",
      "Iteration 73 | Cost 3105006.159165\n",
      "Iteration 74 | Cost 3087662.436188\n",
      "Iteration 75 | Cost 3070484.267722\n",
      "Iteration 76 | Cost 3053469.167790\n",
      "Iteration 77 | Cost 3036614.788808\n",
      "Iteration 78 | Cost 3019918.906711\n",
      "Iteration 79 | Cost 3003379.407813\n",
      "Iteration 80 | Cost 2986994.277206\n",
      "Iteration 81 | Cost 2970761.588502\n",
      "Iteration 82 | Cost 2954679.494776\n",
      "Iteration 83 | Cost 2938746.220552\n",
      "Iteration 84 | Cost 2922960.054732\n",
      "Iteration 85 | Cost 2907319.344329\n",
      "Iteration 86 | Cost 2891822.488940\n",
      "Iteration 87 | Cost 2876467.935842\n",
      "Iteration 88 | Cost 2861254.175665\n",
      "Iteration 89 | Cost 2846179.738559\n",
      "Iteration 90 | Cost 2831243.190790\n",
      "Iteration 91 | Cost 2816443.131744\n",
      "Iteration 92 | Cost 2801778.191252\n",
      "Iteration 93 | Cost 2787247.027232\n",
      "Iteration 94 | Cost 2772848.323594\n",
      "Iteration 95 | Cost 2758580.788374\n",
      "Iteration 96 | Cost 2744443.152083\n",
      "Iteration 97 | Cost 2730434.166243\n",
      "Iteration 98 | Cost 2716552.602070\n",
      "Iteration 99 | Cost 2702797.249318\n"
     ]
    }
   ],
   "source": [
    "# let's now create the variables and run our gradient descent\n",
    "m = len(X)\n",
    "numIterations = 100\n",
    "alpha = 0.035\n",
    "theta = [900,400] #theta0, theta1\n",
    "\n",
    "theta,cost_array = gradientDescent(X, y, theta, alpha, m, numIterations)"
   ]
  },
  {
   "cell_type": "code",
   "execution_count": 37,
   "id": "e2255a29",
   "metadata": {},
   "outputs": [
    {
     "data": {
      "image/png": "[encoded data removed]",
      "text/plain": [
       "<Figure size 640x480 with 1 Axes>"
      ]
     },
     "metadata": {},
     "output_type": "display_data"
    }
   ],
   "source": [
    "# now let's display how the loss function decreased\n",
    "epoch = range(len(cost_array[:,0]))\n",
    "plt.plot(epoch, cost_array[:,1], 'o')\n",
    "plt.xlabel('Iteration')\n",
    "\n",
    "plt.ylabel('Loss')\n",
    "plt.show()"
   ]
  },
  {
   "cell_type": "code",
   "execution_count": 38,
   "id": "991b6b56",
   "metadata": {},
   "outputs": [
    {
     "data": {
      "image/png": "[encoded data removed]",
      "text/plain": [
       "<Figure size 640x480 with 1 Axes>"
      ]
     },
     "metadata": {},
     "output_type": "display_data"
    }
   ],
   "source": [
    "# and let's see how our function compares to the data\n",
    "plt.plot(df['carat'], df['price'], '*')\n",
    "plt.plot(df['carat'], theta[0] + df[\"carat\"] * theta[1],'r')\n",
    "plt.show()"
   ]
  },
  {
   "cell_type": "code",
   "execution_count": 40,
   "id": "8f73472e",
   "metadata": {},
   "outputs": [
    {
     "data": {
      "text/plain": [
       "2202.8084356490913"
      ]
     },
     "execution_count": 40,
     "metadata": {},
     "output_type": "execute_result"
    }
   ],
   "source": [
    "#now based on the trained gradient descent let's create a prediction function\n",
    "def predict_price(x, theta_0=theta[0], theta_1=theta[1]):\n",
    "  result = theta_0 + theta_1 * x\n",
    "  return result\n",
    "\n",
    "# let's try and predict?\n",
    "predict_price(x=0.29)"
   ]
  },
  {
   "cell_type": "markdown",
   "id": "19b0a9f2",
   "metadata": {},
   "source": [
    "## Pipelines"
   ]
  }
 ],
 "metadata": {
  "kernelspec": {
   "display_name": "Python 3 (ipykernel)",
   "language": "python",
   "name": "python3"
  },
  "language_info": {
   "codemirror_mode": {
    "name": "ipython",
    "version": 3
   },
   "file_extension": ".py",
   "mimetype": "text/x-python",
   "name": "python",
   "nbconvert_exporter": "python",
   "pygments_lexer": "ipython3",
   "version": "3.10.9"
  },
  "varInspector": {
   "cols": {
    "lenName": 16,
    "lenType": 16,
    "lenVar": 40
   },
   "kernels_config": {
    "python": {
     "delete_cmd_postfix": "",
     "delete_cmd_prefix": "del ",
     "library": "var_list.py",
     "varRefreshCmd": "print(var_dic_list())"
    },
    "r": {
     "delete_cmd_postfix": ") ",
     "delete_cmd_prefix": "rm(",
     "library": "var_list.r",
     "varRefreshCmd": "cat(var_dic_list()) "
    }
   },
   "types_to_exclude": [
    "module",
    "function",
    "builtin_function_or_method",
    "instance",
    "_Feature"
   ],
   "window_display": false
  }
 },
 "nbformat": 4,
 "nbformat_minor": 5
}
